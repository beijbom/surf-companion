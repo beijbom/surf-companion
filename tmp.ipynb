{
 "cells": [
  {
   "cell_type": "code",
   "execution_count": 1,
   "metadata": {},
   "outputs": [
    {
     "name": "stdout",
     "output_type": "stream",
     "text": [
      "ehllo\n"
     ]
    }
   ],
   "source": [
    "print('ehllo')"
   ]
  },
  {
   "cell_type": "code",
   "execution_count": 5,
   "metadata": {},
   "outputs": [],
   "source": [
    "import os\n",
    "os.remove(\"database.db\")\n",
    "from datamodel import Rating, Surfer, Spot, SurfSession\n",
    "from sqlmodel import create_engine, SQLModel, Session, select\n",
    "\n",
    "engine = create_engine(\"sqlite:///database.db\")\n",
    "SQLModel.metadata.create_all(engine)\n",
    "\n",
    "bad_surfer = Surfer(name=\"Farid\", email=\"farid.doe@example.com\")\n",
    "epic_surfer = Surfer(name=\"Oscar\", email=\"oscar.doe@example.com\")\n",
    "\n",
    "spot = Spot(name=\"Lane\")\n",
    "\n",
    "with Session(engine) as session:\n",
    "    session.add(bad_surfer)\n",
    "    session.add(epic_surfer)\n",
    "    session.add(spot)\n",
    "    session.commit()\n",
    "\n",
    "    session.add(SurfSession(surfer_id=bad_surfer.id, spot_id=spot.id, crowd=Rating.AWFUL))\n",
    "    session.commit()\n"
   ]
  },
  {
   "cell_type": "code",
   "execution_count": 6,
   "metadata": {},
   "outputs": [
    {
     "name": "stdout",
     "output_type": "stream",
     "text": [
      "[Surfer(email='farid.doe@example.com', id=1, name='Farid'), Surfer(email='oscar.doe@example.com', id=2, name='Oscar')]\n",
      "[Spot(id=1, name='Lane')]\n",
      "[SurfSession(crowd=<Rating.AWFUL: 1>, id=1, wind=None, surfer_id=1, spot_id=1, waves=None, timestamp=datetime.datetime(2025, 3, 5, 10, 12, 29, 739967))]\n"
     ]
    }
   ],
   "source": [
    "with Session(engine) as session:\n",
    "    statement = select(Surfer)\n",
    "    print(session.exec(statement).all())\n",
    "    print(session.exec(select(Spot)).all())\n",
    "    print(session.exec(select(SurfSession)).all())\n"
   ]
  },
  {
   "cell_type": "code",
   "execution_count": 2,
   "metadata": {},
   "outputs": [
    {
     "ename": "ModuleNotFoundError",
     "evalue": "No module named 'requests'",
     "output_type": "error",
     "traceback": [
      "\u001b[31m---------------------------------------------------------------------------\u001b[39m",
      "\u001b[31mModuleNotFoundError\u001b[39m                       Traceback (most recent call last)",
      "\u001b[36mCell\u001b[39m\u001b[36m \u001b[39m\u001b[32mIn[2]\u001b[39m\u001b[32m, line 2\u001b[39m\n\u001b[32m      1\u001b[39m \u001b[38;5;66;03m# ! pip install requests\u001b[39;00m\n\u001b[32m----> \u001b[39m\u001b[32m2\u001b[39m \u001b[38;5;28;01mimport\u001b[39;00m\u001b[38;5;250m \u001b[39m\u001b[34;01mrequests\u001b[39;00m\n\u001b[32m      4\u001b[39m response = requests.get(\u001b[33m\"\u001b[39m\u001b[33mhttps://services.surfline.com/kbyg/spots\u001b[39m\u001b[33m\"\u001b[39m)\n\u001b[32m      6\u001b[39m \u001b[38;5;28mprint\u001b[39m(response.json())\n",
      "\u001b[31mModuleNotFoundError\u001b[39m: No module named 'requests'"
     ]
    }
   ],
   "source": [
    "# ! pip install requests\n",
    "import requests\n",
    "\n",
    "response = requests.get(\"https://services.surfline.com/kbyg/spots\")\n",
    "\n",
    "print(response.json())\n"
   ]
  },
  {
   "cell_type": "code",
   "execution_count": null,
   "metadata": {},
   "outputs": [],
   "source": []
  }
 ],
 "metadata": {
  "kernelspec": {
   "display_name": ".venv",
   "language": "python",
   "name": "python3"
  },
  "language_info": {
   "codemirror_mode": {
    "name": "ipython",
    "version": 3
   },
   "file_extension": ".py",
   "mimetype": "text/x-python",
   "name": "python",
   "nbconvert_exporter": "python",
   "pygments_lexer": "ipython3",
   "version": "3.12.9"
  }
 },
 "nbformat": 4,
 "nbformat_minor": 2
}
