{
 "cells": [
  {
   "cell_type": "code",
   "execution_count": 1,
   "metadata": {},
   "outputs": [
    {
     "name": "stdout",
     "output_type": "stream",
     "text": [
      "ehllo\n"
     ]
    }
   ],
   "source": [
    "print('ehllo')"
   ]
  },
  {
   "cell_type": "code",
   "execution_count": 5,
   "metadata": {},
   "outputs": [],
   "source": [
    "import os\n",
    "os.remove(\"database.db\")\n",
    "from datamodel import Rating, Surfer, Spot, SurfSession\n",
    "from sqlmodel import create_engine, SQLModel, Session, select\n",
    "\n",
    "engine = create_engine(\"sqlite:///database.db\")\n",
    "SQLModel.metadata.create_all(engine)\n",
    "\n",
    "bad_surfer = Surfer(name=\"Farid\", email=\"farid.doe@example.com\")\n",
    "epic_surfer = Surfer(name=\"Oscar\", email=\"oscar.doe@example.com\")\n",
    "\n",
    "spot = Spot(name=\"Lane\")\n",
    "\n",
    "with Session(engine) as session:\n",
    "    session.add(bad_surfer)\n",
    "    session.add(epic_surfer)\n",
    "    session.add(spot)\n",
    "    session.commit()\n",
    "\n",
    "    session.add(SurfSession(surfer_id=bad_surfer.id, spot_id=spot.id, crowd=Rating.AWFUL))\n",
    "    session.commit()\n"
   ]
  },
  {
   "cell_type": "code",
   "execution_count": 6,
   "metadata": {},
   "outputs": [
    {
     "name": "stdout",
     "output_type": "stream",
     "text": [
      "[Surfer(email='farid.doe@example.com', id=1, name='Farid'), Surfer(email='oscar.doe@example.com', id=2, name='Oscar')]\n",
      "[Spot(id=1, name='Lane')]\n",
      "[SurfSession(crowd=<Rating.AWFUL: 1>, id=1, wind=None, surfer_id=1, spot_id=1, waves=None, timestamp=datetime.datetime(2025, 3, 5, 10, 12, 29, 739967))]\n"
     ]
    }
   ],
   "source": [
    "with Session(engine) as session:\n",
    "    statement = select(Surfer)\n",
    "    print(session.exec(statement).all())\n",
    "    print(session.exec(select(Spot)).all())\n",
    "    print(session.exec(select(SurfSession)).all())\n"
   ]
  },
  {
   "cell_type": "code",
   "execution_count": null,
   "metadata": {},
   "outputs": [],
   "source": []
  }
 ],
 "metadata": {
  "kernelspec": {
   "display_name": ".venv",
   "language": "python",
   "name": "python3"
  },
  "language_info": {
   "codemirror_mode": {
    "name": "ipython",
    "version": 3
   },
   "file_extension": ".py",
   "mimetype": "text/x-python",
   "name": "python",
   "nbconvert_exporter": "python",
   "pygments_lexer": "ipython3",
   "version": "3.12.9"
  }
 },
 "nbformat": 4,
 "nbformat_minor": 2
}
