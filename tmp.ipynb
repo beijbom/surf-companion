{
 "cells": [
  {
   "cell_type": "code",
   "execution_count": 5,
   "metadata": {},
   "outputs": [],
   "source": [
    "import os\n",
    "os.remove(\"database.db\")\n",
    "from datamodel import Rating, Surfer, Spot, SurfSession\n",
    "from sqlmodel import create_engine, SQLModel, Session, select\n",
    "\n",
    "engine = create_engine(\"sqlite:///database.db\")\n",
    "SQLModel.metadata.create_all(engine)\n",
    "\n",
    "bad_surfer = Surfer(name=\"Farid\", email=\"farid.doe@example.com\")\n",
    "epic_surfer = Surfer(name=\"Oscar\", email=\"oscar.doe@example.com\")\n",
    "\n",
    "spot = Spot(name=\"Lane\")\n",
    "\n",
    "with Session(engine) as session:\n",
    "    session.add(bad_surfer)\n",
    "    session.add(epic_surfer)\n",
    "    session.add(spot)\n",
    "    session.commit()\n",
    "\n",
    "    session.add(SurfSession(surfer_id=bad_surfer.id, spot_id=spot.id, crowd=Rating.AWFUL))\n",
    "    session.commit()\n"
   ]
  },
  {
   "cell_type": "code",
   "execution_count": null,
   "metadata": {},
   "outputs": [],
   "source": [
    "with Session(engine) as session:\n",
    "    statement = select(Surfer)\n",
    "    print(session.exec(statement).all())\n",
    "    print(session.exec(select(Spot)).all())\n",
    "    print(session.exec(select(SurfSession)).all())\n"
   ]
  },
  {
   "cell_type": "code",
   "execution_count": null,
   "metadata": {},
   "outputs": [],
   "source": [
    "import requests\n",
    "\n",
    "response = requests.get(\"https://api.weather.gov/points/39.7456,-97.0892\")\n",
    "\n",
    "response.json()\n",
    "\n"
   ]
  }
 ],
 "metadata": {
  "kernelspec": {
   "display_name": ".venv",
   "language": "python",
   "name": "python3"
  },
  "language_info": {
   "codemirror_mode": {
    "name": "ipython",
    "version": 3
   },
   "file_extension": ".py",
   "mimetype": "text/x-python",
   "name": "python",
   "nbconvert_exporter": "python",
   "pygments_lexer": "ipython3",
   "version": "3.12.9"
  }
 },
 "nbformat": 4,
 "nbformat_minor": 2
}
